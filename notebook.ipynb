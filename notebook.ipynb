{
 "cells": [
  {
   "cell_type": "markdown",
   "metadata": {},
   "source": [
    "# jawm notebook example\n",
    "\n",
    "This notebook demonstrates how to use jawm from inside a notebook."
   ]
  },
  {
   "cell_type": "markdown",
   "metadata": {},
   "source": [
    "### 0. Packages import"
   ]
  },
  {
   "cell_type": "code",
   "execution_count": null,
   "metadata": {},
   "outputs": [],
   "source": [
    "import jawm"
   ]
  },
  {
   "cell_type": "markdown",
   "metadata": {},
   "source": [
    "### 1. Locally\n",
    "\n",
    "A simple example running your command locally."
   ]
  },
  {
   "cell_type": "code",
   "execution_count": null,
   "metadata": {},
   "outputs": [],
   "source": [
    "# definde the process\n",
    "demo_p1=jawm.Process( \n",
    "    name=\"demo_p1\",\n",
    "    script=\"\"\"#!/bin/bash\n",
    "echo \"{{extra_args}} {{my_demo_argument}}\" 2>&1 | tee {{mk.output}}/demo.txt\n",
    "\"\"\",\n",
    "    var={\n",
    "        \"extra_args\": \"\",\n",
    "        \"my_demo_argument\":\"This is just a demo.\", \n",
    "        \"mk.output\":\"./test/test-output/\", # the prefix \"mk.\" leads to the creation of this folder and volume mapping if you are using containers\n",
    "    }\n",
    ")\n",
    "\n",
    "# excute the process\n",
    "demo_p1.execute()\n",
    "\n",
    "# wait for all above processes to complete\n",
    "jawm.Process.wait()\n",
    "\n",
    "# capture the output\n",
    "print(demo_p1.get_output())"
   ]
  },
  {
   "cell_type": "markdown",
   "metadata": {},
   "source": [
    "### 2. Docker\n",
    "\n",
    "With jawm you can also run processes with docker from inside a notebook."
   ]
  },
  {
   "cell_type": "code",
   "execution_count": null,
   "metadata": {},
   "outputs": [],
   "source": [
    "# definde the process\n",
    "demo_p2=jawm.Process( \n",
    "    name=\"demo_p2\",\n",
    "    script=\"\"\"#!/usr/bin/env python3\n",
    "with open(\"{{map.file}}\", \"r\") as src, open(\"{{mk.output}}/demo.txt\", \"a\") as dst:\n",
    "    dst.write(src.read())\n",
    "\"\"\",\n",
    "    var={\n",
    "        \"mk.output\":\"<output_folder>\", # the prefix \"mk.\" leads to the creation of this folder and volume mapping if you are using containers\n",
    "        \"map.file\":\"<some_file>\"# the prefix \"map.\" leads to the mapping of this file if you are using containers\n",
    "    },\n",
    "    container=\"python:3.13-slim\",\n",
    "    environmnent=\"docker\",\n",
    "    \n",
    "    # other docker parameters\n",
    "\n",
    "    # docker_run_as_user=True,\n",
    "    # environment_docker={ \"-v\": [\"/nexus:/nexus\"] }\n",
    "    # in this example you do not need to do volume mapping as the prefixes `mk.`` in the `mk.output`` variable\n",
    "    # and `map.` in the `map.file` variable will instruct jawm to do this volume mappings for you. \n",
    "    # Unless you deactivate automated mapping with:\n",
    "    # automated_mount=False,\n",
    "\n",
    "    # other general paramaters\n",
    "\n",
    "    # parallel: False # do not run jobs in parallel\n",
    "\n",
    ")\n",
    "\n",
    "# excute the process\n",
    "demo_p2.execute()\n",
    "\n",
    "# wait for all above processes to complete\n",
    "jawm.Process.wait()\n",
    "\n",
    "# capture the output\n",
    "print(demo_p2.get_output())"
   ]
  },
  {
   "cell_type": "markdown",
   "metadata": {},
   "source": [
    "### 3. slurm and apptainer\n",
    "\n",
    "Also slurm and apptainer can be used with jawm."
   ]
  },
  {
   "cell_type": "code",
   "execution_count": null,
   "metadata": {},
   "outputs": [],
   "source": [
    "demo_p3=jawm.Process( \n",
    "    name=\"demo_p3\",\n",
    "    script=\"\"\"#!/usr/bin/env Rscript\n",
    "write( \"Demo completed\", file = \"{{mk.output}}/demo.txt\", append = TRUE)\n",
    "\"\"\",    \n",
    "    var={\n",
    "        \"mk.output\":\"<output_folder>\", # the prefix \"mk.\" leads to the creation of this folder and volume mapping if you are using containers\n",
    "    },\n",
    "    manager=\"slurm\",\n",
    "    manager_slurm={ \"-p\":\"cluster,dedicated\", \"--mem\":\"20GB\", \"-t\":\"1:00:00\", \"-c\":\"8\" }, # your slum parameters here\n",
    "    environment=\"apptainer\",\n",
    "    container=\"docker://r-base:4.5.1\", \n",
    "    # environment_apptainer={\"-B\": [input_file, output_folder] } # your apptainer parameters here.\n",
    "    # in this example you do not need to do volume mapping as the prefixes `mk.`` in the `mk.output`` variable\n",
    ")\n",
    "\n",
    "# excute the process\n",
    "demo_p3.execute()\n",
    "\n",
    "# wait for all above processes to complete\n",
    "jawm.Process.wait()\n",
    "\n",
    "# capture the output\n",
    "print(demo_p3.get_output())"
   ]
  },
  {
   "cell_type": "markdown",
   "metadata": {},
   "source": [
    "### 4. Establishing dependencies\n",
    "\n",
    "So far we have used `jawm.Process.wait()` to avoid dependent jobs to start without it's parent process finishing.\n",
    "\n",
    "We can also do this by setting dependencies in a process and we can also set `wait` on specific processes."
   ]
  },
  {
   "cell_type": "code",
   "execution_count": null,
   "metadata": {},
   "outputs": [],
   "source": [
    "demo_p1.execute()\n",
    "\n",
    "# set dependency for demo_p2\n",
    "demo_p2.depends_on=[demo_p1.hash]\n",
    "\n",
    "# execute demo_p2\n",
    "demo_p2.execute()\n",
    "\n",
    "# wait for a specific process to finish\n",
    "jawm.Process.wait(process_list=[ demo_p2.hash ]) # use tail=\"both\" if you want stdout and stderr to be print live for you\n",
    "\n",
    "# execute demo_p3\n",
    "demo_p3.execute()\n",
    "\n",
    "# wait for all above processes to complete\n",
    "jawm.Process.wait()\n"
   ]
  },
  {
   "cell_type": "markdown",
   "metadata": {},
   "source": [
    "### 5. From notebook to the command line\n",
    "\n",
    "Having developed your code on a notebook, you can now run the associated script from a command line.\n",
    "\n",
    "```\n",
    "jupyter nbconvert --to python notebook.ipynb\n",
    "\n",
    "python3 notebook.py\n",
    "```\n",
    "\n",
    "Please notice that unless you have docker, apptainer and slurm in your path and the \n",
    "respective slurm and apptainer paramters set this example will not work for you.\n",
    "\n",
    "\n",
    "### 6. Using `yaml` to store arguments.\n",
    "\n",
    "You can now define new parameters for your workflow which you can store in `yaml` files \n",
    "and overwrite the paramaters set here at run time.\n",
    "\n",
    "```\n",
    "jawm notebook.py -p ./yaml/docker.yaml\n",
    "```\n",
    "\n",
    "Check out the examples on the `yaml` folder.\n",
    "\n",
    "Additionaly, you can load those parameters into the process when running your \n",
    "workflow on a notebook:"
   ]
  },
  {
   "cell_type": "code",
   "execution_count": null,
   "metadata": {},
   "outputs": [],
   "source": [
    "demo_p1.param_file=\"yaml/docker.yaml\"\n",
    "demo_p1.execute()"
   ]
  },
  {
   "cell_type": "markdown",
   "metadata": {},
   "source": [
    "or"
   ]
  },
  {
   "cell_type": "code",
   "execution_count": null,
   "metadata": {},
   "outputs": [],
   "source": [
    "demo_p1.param_file=[\"yaml/vars.yaml\", \"hpc.yaml\"]\n",
    "demo_p1.execute()"
   ]
  }
 ],
 "metadata": {
  "language_info": {
   "name": "python"
  }
 },
 "nbformat": 4,
 "nbformat_minor": 2
}
